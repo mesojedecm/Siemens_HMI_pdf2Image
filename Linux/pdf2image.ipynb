{
 "cells": [
  {
   "cell_type": "code",
   "execution_count": 17,
   "id": "b8a7dae9-b22c-436f-bfc0-d250fdc9da20",
   "metadata": {},
   "outputs": [],
   "source": [
    "import glob, os\n",
    "from PIL import Image\n",
    "from pdfToImage import convert_from_path\n",
    "\n",
    "\n",
    "######################### pdf2image ###########################\n",
    "# Adjust the path to your Poppler installation on Fedora\n",
    "poppler_path = \"/usr/bin\"  # The default installation path \n",
    "\n",
    "# Use the correct path to your PDF files\n",
    "pdf_directory = '*path_to_folder_with_pdfs*'\n",
    "\n",
    "pdf_filenames = glob.glob(pdf_directory + '*.pdf')\n",
    "crop_filenames = glob.glob(pdf_directory + '*.jpeg')\n",
    "\n",
    "for pdf_filename in pdf_filenames:\n",
    "    images = convert_from_path(pdf_filename, poppler_path=poppler_path)\n",
    "    for i, image in enumerate(images):\n",
    "        image.save(f\"{pdf_filename[:-4]}_{i}.jpg\", 'JPEG')\n",
    "\n",
    "######################### crop ###########################\n",
    "# Define the directory where your JPEG images are located\n",
    "image_directory = pdf_directory\n",
    "\n",
    "# Use glob to get a list of JPEG files in the directory\n",
    "jpeg_files = glob.glob(image_directory + '*.jpg')\n",
    "\n",
    "# Define a function to crop an image into halves\n",
    "def crop_image(image_path):\n",
    "    try:\n",
    "        # Open the image using PIL (Python Imaging Library)\n",
    "        img = Image.open(image_path)\n",
    "\n",
    "        # Get the width and height of the image\n",
    "        width, height = img.size\n",
    "\n",
    "        # Calculate the coordinates for cropping\n",
    "        left = 0\n",
    "        top = 0\n",
    "        right = width\n",
    "        bottom = height // 2  # Crop the image into halves\n",
    "\n",
    "        # Crop the top half\n",
    "        top_half = img.crop((left, top, right, bottom))\n",
    "        top_half.save(image_path[:-4] + '_screen.jpg', 'JPEG')\n",
    "\n",
    "        os.remove(image_path)\n",
    "        #print(f\"Cropped {image_path} into halves.\")\n",
    "\n",
    "    except Exception as e:\n",
    "        print(f\"Error processing {image_path}: {e}\")\n",
    "\n",
    "# Loop through each JPEG file and crop it into halves\n",
    "for jpeg_file in jpeg_files:\n",
    "    crop_image(jpeg_file)"
   ]
  }
 ],
 "metadata": {
  "kernelspec": {
   "display_name": "Python 3 (ipykernel)",
   "language": "python",
   "name": "python3"
  },
  "language_info": {
   "codemirror_mode": {
    "name": "ipython",
    "version": 3
   },
   "file_extension": ".py",
   "mimetype": "text/x-python",
   "name": "python",
   "nbconvert_exporter": "python",
   "pygments_lexer": "ipython3",
   "version": "3.11.5"
  }
 },
 "nbformat": 4,
 "nbformat_minor": 5
}
